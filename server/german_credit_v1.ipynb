{
  "nbformat": 4,
  "nbformat_minor": 0,
  "metadata": {
    "colab": {
      "name": "german_credit_v1.ipynb",
      "provenance": [],
      "collapsed_sections": []
    },
    "kernelspec": {
      "name": "python3",
      "display_name": "Python 3"
    },
    "accelerator": "GPU"
  },
  "cells": [
    {
      "cell_type": "code",
      "metadata": {
        "id": "pnf7gUTjpP0m",
        "colab_type": "code",
        "colab": {}
      },
      "source": [
        "from sklearn.model_selection import GridSearchCV\n",
        "import seaborn as sns\n",
        "import pandas as pd\n",
        "import numpy as np\n",
        "import matplotlib.pyplot as plt"
      ],
      "execution_count": null,
      "outputs": []
    },
    {
      "cell_type": "code",
      "metadata": {
        "id": "TVf_KPVFqE6m",
        "colab_type": "code",
        "colab": {
          "base_uri": "https://localhost:8080/",
          "height": 137
        },
        "outputId": "ee859aaa-219c-41d3-8ea6-81c032a2a9ea"
      },
      "source": [
        "df = pd.read_csv(\"/content/drive/My Drive/german_credit_data.csv\", low_memory=False)\n",
        "df.head(3)"
      ],
      "execution_count": null,
      "outputs": [
        {
          "output_type": "execute_result",
          "data": {
            "text/html": [
              "<div>\n",
              "<style scoped>\n",
              "    .dataframe tbody tr th:only-of-type {\n",
              "        vertical-align: middle;\n",
              "    }\n",
              "\n",
              "    .dataframe tbody tr th {\n",
              "        vertical-align: top;\n",
              "    }\n",
              "\n",
              "    .dataframe thead th {\n",
              "        text-align: right;\n",
              "    }\n",
              "</style>\n",
              "<table border=\"1\" class=\"dataframe\">\n",
              "  <thead>\n",
              "    <tr style=\"text-align: right;\">\n",
              "      <th></th>\n",
              "      <th>Unnamed: 0</th>\n",
              "      <th>Age</th>\n",
              "      <th>Sex</th>\n",
              "      <th>Job</th>\n",
              "      <th>Housing</th>\n",
              "      <th>Saving accounts</th>\n",
              "      <th>Checking account</th>\n",
              "      <th>Credit amount</th>\n",
              "      <th>Duration</th>\n",
              "      <th>Purpose</th>\n",
              "      <th>Risk</th>\n",
              "    </tr>\n",
              "  </thead>\n",
              "  <tbody>\n",
              "    <tr>\n",
              "      <th>0</th>\n",
              "      <td>0</td>\n",
              "      <td>67</td>\n",
              "      <td>male</td>\n",
              "      <td>2</td>\n",
              "      <td>own</td>\n",
              "      <td>NaN</td>\n",
              "      <td>little</td>\n",
              "      <td>1169</td>\n",
              "      <td>6</td>\n",
              "      <td>radio/TV</td>\n",
              "      <td>good</td>\n",
              "    </tr>\n",
              "    <tr>\n",
              "      <th>1</th>\n",
              "      <td>1</td>\n",
              "      <td>22</td>\n",
              "      <td>female</td>\n",
              "      <td>2</td>\n",
              "      <td>own</td>\n",
              "      <td>little</td>\n",
              "      <td>moderate</td>\n",
              "      <td>5951</td>\n",
              "      <td>48</td>\n",
              "      <td>radio/TV</td>\n",
              "      <td>bad</td>\n",
              "    </tr>\n",
              "    <tr>\n",
              "      <th>2</th>\n",
              "      <td>2</td>\n",
              "      <td>49</td>\n",
              "      <td>male</td>\n",
              "      <td>1</td>\n",
              "      <td>own</td>\n",
              "      <td>little</td>\n",
              "      <td>NaN</td>\n",
              "      <td>2096</td>\n",
              "      <td>12</td>\n",
              "      <td>education</td>\n",
              "      <td>good</td>\n",
              "    </tr>\n",
              "  </tbody>\n",
              "</table>\n",
              "</div>"
            ],
            "text/plain": [
              "   Unnamed: 0  Age     Sex  Job  ... Credit amount Duration    Purpose  Risk\n",
              "0           0   67    male    2  ...          1169        6   radio/TV  good\n",
              "1           1   22  female    2  ...          5951       48   radio/TV   bad\n",
              "2           2   49    male    1  ...          2096       12  education  good\n",
              "\n",
              "[3 rows x 11 columns]"
            ]
          },
          "metadata": {
            "tags": []
          },
          "execution_count": 2
        }
      ]
    },
    {
      "cell_type": "code",
      "metadata": {
        "id": "RvLQzLBiqO1F",
        "colab_type": "code",
        "colab": {
          "base_uri": "https://localhost:8080/",
          "height": 318
        },
        "outputId": "ac62bc84-a44c-4337-8101-a2ddf75d5883"
      },
      "source": [
        "df.info()\n",
        "df.shape"
      ],
      "execution_count": null,
      "outputs": [
        {
          "output_type": "stream",
          "text": [
            "<class 'pandas.core.frame.DataFrame'>\n",
            "RangeIndex: 1000 entries, 0 to 999\n",
            "Data columns (total 11 columns):\n",
            "Unnamed: 0          1000 non-null int64\n",
            "Age                 1000 non-null int64\n",
            "Sex                 1000 non-null object\n",
            "Job                 1000 non-null int64\n",
            "Housing             1000 non-null object\n",
            "Saving accounts     817 non-null object\n",
            "Checking account    606 non-null object\n",
            "Credit amount       1000 non-null int64\n",
            "Duration            1000 non-null int64\n",
            "Purpose             1000 non-null object\n",
            "Risk                1000 non-null object\n",
            "dtypes: int64(5), object(6)\n",
            "memory usage: 86.1+ KB\n"
          ],
          "name": "stdout"
        },
        {
          "output_type": "execute_result",
          "data": {
            "text/plain": [
              "(1000, 11)"
            ]
          },
          "metadata": {
            "tags": []
          },
          "execution_count": 3
        }
      ]
    },
    {
      "cell_type": "code",
      "metadata": {
        "id": "MgeW9kIyrvTm",
        "colab_type": "code",
        "colab": {
          "base_uri": "https://localhost:8080/",
          "height": 107
        },
        "outputId": "2b60c3cb-88d4-4139-a4af-e4283b8f131c"
      },
      "source": [
        "#determining the NaN values in columns\n",
        "df_null = pd.DataFrame({'Count': df.isnull().sum(), 'Percent': 100*df.isnull().sum()/len(df)})\n",
        "df_null[df_null['Count'] > 0] "
      ],
      "execution_count": null,
      "outputs": [
        {
          "output_type": "execute_result",
          "data": {
            "text/html": [
              "<div>\n",
              "<style scoped>\n",
              "    .dataframe tbody tr th:only-of-type {\n",
              "        vertical-align: middle;\n",
              "    }\n",
              "\n",
              "    .dataframe tbody tr th {\n",
              "        vertical-align: top;\n",
              "    }\n",
              "\n",
              "    .dataframe thead th {\n",
              "        text-align: right;\n",
              "    }\n",
              "</style>\n",
              "<table border=\"1\" class=\"dataframe\">\n",
              "  <thead>\n",
              "    <tr style=\"text-align: right;\">\n",
              "      <th></th>\n",
              "      <th>Count</th>\n",
              "      <th>Percent</th>\n",
              "    </tr>\n",
              "  </thead>\n",
              "  <tbody>\n",
              "    <tr>\n",
              "      <th>Saving accounts</th>\n",
              "      <td>183</td>\n",
              "      <td>18.3</td>\n",
              "    </tr>\n",
              "    <tr>\n",
              "      <th>Checking account</th>\n",
              "      <td>394</td>\n",
              "      <td>39.4</td>\n",
              "    </tr>\n",
              "  </tbody>\n",
              "</table>\n",
              "</div>"
            ],
            "text/plain": [
              "                  Count  Percent\n",
              "Saving accounts     183     18.3\n",
              "Checking account    394     39.4"
            ]
          },
          "metadata": {
            "tags": []
          },
          "execution_count": 4
        }
      ]
    },
    {
      "cell_type": "code",
      "metadata": {
        "id": "ETMaHERgr-OG",
        "colab_type": "code",
        "colab": {}
      },
      "source": [
        "df[\"Saving accounts\"].fillna(\"No Saving account\", inplace = True)\n",
        "df[\"Checking account\"].fillna(\"No Checking account\", inplace = True)"
      ],
      "execution_count": null,
      "outputs": []
    },
    {
      "cell_type": "code",
      "metadata": {
        "id": "wrc33MQNsOQh",
        "colab_type": "code",
        "colab": {
          "base_uri": "https://localhost:8080/",
          "height": 137
        },
        "outputId": "a5d66347-0796-4663-bf7a-9a9b30b2307f"
      },
      "source": [
        "df.head(3)\n"
      ],
      "execution_count": null,
      "outputs": [
        {
          "output_type": "execute_result",
          "data": {
            "text/html": [
              "<div>\n",
              "<style scoped>\n",
              "    .dataframe tbody tr th:only-of-type {\n",
              "        vertical-align: middle;\n",
              "    }\n",
              "\n",
              "    .dataframe tbody tr th {\n",
              "        vertical-align: top;\n",
              "    }\n",
              "\n",
              "    .dataframe thead th {\n",
              "        text-align: right;\n",
              "    }\n",
              "</style>\n",
              "<table border=\"1\" class=\"dataframe\">\n",
              "  <thead>\n",
              "    <tr style=\"text-align: right;\">\n",
              "      <th></th>\n",
              "      <th>Unnamed: 0</th>\n",
              "      <th>Age</th>\n",
              "      <th>Sex</th>\n",
              "      <th>Job</th>\n",
              "      <th>Housing</th>\n",
              "      <th>Saving accounts</th>\n",
              "      <th>Checking account</th>\n",
              "      <th>Credit amount</th>\n",
              "      <th>Duration</th>\n",
              "      <th>Purpose</th>\n",
              "      <th>Risk</th>\n",
              "    </tr>\n",
              "  </thead>\n",
              "  <tbody>\n",
              "    <tr>\n",
              "      <th>0</th>\n",
              "      <td>0</td>\n",
              "      <td>67</td>\n",
              "      <td>male</td>\n",
              "      <td>2</td>\n",
              "      <td>own</td>\n",
              "      <td>No Saving account</td>\n",
              "      <td>little</td>\n",
              "      <td>1169</td>\n",
              "      <td>6</td>\n",
              "      <td>radio/TV</td>\n",
              "      <td>good</td>\n",
              "    </tr>\n",
              "    <tr>\n",
              "      <th>1</th>\n",
              "      <td>1</td>\n",
              "      <td>22</td>\n",
              "      <td>female</td>\n",
              "      <td>2</td>\n",
              "      <td>own</td>\n",
              "      <td>little</td>\n",
              "      <td>moderate</td>\n",
              "      <td>5951</td>\n",
              "      <td>48</td>\n",
              "      <td>radio/TV</td>\n",
              "      <td>bad</td>\n",
              "    </tr>\n",
              "    <tr>\n",
              "      <th>2</th>\n",
              "      <td>2</td>\n",
              "      <td>49</td>\n",
              "      <td>male</td>\n",
              "      <td>1</td>\n",
              "      <td>own</td>\n",
              "      <td>little</td>\n",
              "      <td>No Checking account</td>\n",
              "      <td>2096</td>\n",
              "      <td>12</td>\n",
              "      <td>education</td>\n",
              "      <td>good</td>\n",
              "    </tr>\n",
              "  </tbody>\n",
              "</table>\n",
              "</div>"
            ],
            "text/plain": [
              "   Unnamed: 0  Age     Sex  Job  ... Credit amount Duration    Purpose  Risk\n",
              "0           0   67    male    2  ...          1169        6   radio/TV  good\n",
              "1           1   22  female    2  ...          5951       48   radio/TV   bad\n",
              "2           2   49    male    1  ...          2096       12  education  good\n",
              "\n",
              "[3 rows x 11 columns]"
            ]
          },
          "metadata": {
            "tags": []
          },
          "execution_count": 6
        }
      ]
    },
    {
      "cell_type": "code",
      "metadata": {
        "id": "W9LyVXC5R8iT",
        "colab_type": "code",
        "colab": {
          "base_uri": "https://localhost:8080/",
          "height": 70
        },
        "outputId": "4fb28fef-2952-489a-bd0e-585d802d6833"
      },
      "source": [
        "#categorizing the target variable\n",
        "df.Risk=df.Risk.astype('category').cat.codes\n",
        "df.head()\n",
        "df['Risk'].value_counts()"
      ],
      "execution_count": null,
      "outputs": [
        {
          "output_type": "execute_result",
          "data": {
            "text/plain": [
              "1    700\n",
              "0    300\n",
              "Name: Risk, dtype: int64"
            ]
          },
          "metadata": {
            "tags": []
          },
          "execution_count": 7
        }
      ]
    },
    {
      "cell_type": "code",
      "metadata": {
        "id": "RpDoRNGrNwmb",
        "colab_type": "code",
        "colab": {
          "base_uri": "https://localhost:8080/",
          "height": 137
        },
        "outputId": "07e711e5-7b6a-4212-f3ed-082fd35b26d2"
      },
      "source": [
        "df.head(3)"
      ],
      "execution_count": null,
      "outputs": [
        {
          "output_type": "execute_result",
          "data": {
            "text/html": [
              "<div>\n",
              "<style scoped>\n",
              "    .dataframe tbody tr th:only-of-type {\n",
              "        vertical-align: middle;\n",
              "    }\n",
              "\n",
              "    .dataframe tbody tr th {\n",
              "        vertical-align: top;\n",
              "    }\n",
              "\n",
              "    .dataframe thead th {\n",
              "        text-align: right;\n",
              "    }\n",
              "</style>\n",
              "<table border=\"1\" class=\"dataframe\">\n",
              "  <thead>\n",
              "    <tr style=\"text-align: right;\">\n",
              "      <th></th>\n",
              "      <th>Unnamed: 0</th>\n",
              "      <th>Age</th>\n",
              "      <th>Sex</th>\n",
              "      <th>Job</th>\n",
              "      <th>Housing</th>\n",
              "      <th>Saving accounts</th>\n",
              "      <th>Checking account</th>\n",
              "      <th>Credit amount</th>\n",
              "      <th>Duration</th>\n",
              "      <th>Purpose</th>\n",
              "      <th>Risk</th>\n",
              "    </tr>\n",
              "  </thead>\n",
              "  <tbody>\n",
              "    <tr>\n",
              "      <th>0</th>\n",
              "      <td>0</td>\n",
              "      <td>67</td>\n",
              "      <td>male</td>\n",
              "      <td>2</td>\n",
              "      <td>own</td>\n",
              "      <td>No Saving account</td>\n",
              "      <td>little</td>\n",
              "      <td>1169</td>\n",
              "      <td>6</td>\n",
              "      <td>radio/TV</td>\n",
              "      <td>1</td>\n",
              "    </tr>\n",
              "    <tr>\n",
              "      <th>1</th>\n",
              "      <td>1</td>\n",
              "      <td>22</td>\n",
              "      <td>female</td>\n",
              "      <td>2</td>\n",
              "      <td>own</td>\n",
              "      <td>little</td>\n",
              "      <td>moderate</td>\n",
              "      <td>5951</td>\n",
              "      <td>48</td>\n",
              "      <td>radio/TV</td>\n",
              "      <td>0</td>\n",
              "    </tr>\n",
              "    <tr>\n",
              "      <th>2</th>\n",
              "      <td>2</td>\n",
              "      <td>49</td>\n",
              "      <td>male</td>\n",
              "      <td>1</td>\n",
              "      <td>own</td>\n",
              "      <td>little</td>\n",
              "      <td>No Checking account</td>\n",
              "      <td>2096</td>\n",
              "      <td>12</td>\n",
              "      <td>education</td>\n",
              "      <td>1</td>\n",
              "    </tr>\n",
              "  </tbody>\n",
              "</table>\n",
              "</div>"
            ],
            "text/plain": [
              "   Unnamed: 0  Age     Sex  Job  ... Credit amount Duration    Purpose  Risk\n",
              "0           0   67    male    2  ...          1169        6   radio/TV     1\n",
              "1           1   22  female    2  ...          5951       48   radio/TV     0\n",
              "2           2   49    male    1  ...          2096       12  education     1\n",
              "\n",
              "[3 rows x 11 columns]"
            ]
          },
          "metadata": {
            "tags": []
          },
          "execution_count": 8
        }
      ]
    },
    {
      "cell_type": "code",
      "metadata": {
        "id": "OBtPRW25O2vk",
        "colab_type": "code",
        "colab": {}
      },
      "source": [
        "#dummy variables for categorical features\n",
        "df = pd.get_dummies(df, drop_first=True)"
      ],
      "execution_count": null,
      "outputs": []
    },
    {
      "cell_type": "code",
      "metadata": {
        "id": "QPdRyDlUO5tN",
        "colab_type": "code",
        "colab": {
          "base_uri": "https://localhost:8080/",
          "height": 191
        },
        "outputId": "a7f55711-c474-4f73-aef7-1ccfbf5b1c0e"
      },
      "source": [
        "df.head(3)"
      ],
      "execution_count": null,
      "outputs": [
        {
          "output_type": "execute_result",
          "data": {
            "text/html": [
              "<div>\n",
              "<style scoped>\n",
              "    .dataframe tbody tr th:only-of-type {\n",
              "        vertical-align: middle;\n",
              "    }\n",
              "\n",
              "    .dataframe tbody tr th {\n",
              "        vertical-align: top;\n",
              "    }\n",
              "\n",
              "    .dataframe thead th {\n",
              "        text-align: right;\n",
              "    }\n",
              "</style>\n",
              "<table border=\"1\" class=\"dataframe\">\n",
              "  <thead>\n",
              "    <tr style=\"text-align: right;\">\n",
              "      <th></th>\n",
              "      <th>Unnamed: 0</th>\n",
              "      <th>Age</th>\n",
              "      <th>Job</th>\n",
              "      <th>Credit amount</th>\n",
              "      <th>Duration</th>\n",
              "      <th>Risk</th>\n",
              "      <th>Sex_male</th>\n",
              "      <th>Housing_own</th>\n",
              "      <th>Housing_rent</th>\n",
              "      <th>Saving accounts_little</th>\n",
              "      <th>Saving accounts_moderate</th>\n",
              "      <th>Saving accounts_quite rich</th>\n",
              "      <th>Saving accounts_rich</th>\n",
              "      <th>Checking account_little</th>\n",
              "      <th>Checking account_moderate</th>\n",
              "      <th>Checking account_rich</th>\n",
              "      <th>Purpose_car</th>\n",
              "      <th>Purpose_domestic appliances</th>\n",
              "      <th>Purpose_education</th>\n",
              "      <th>Purpose_furniture/equipment</th>\n",
              "      <th>Purpose_radio/TV</th>\n",
              "      <th>Purpose_repairs</th>\n",
              "      <th>Purpose_vacation/others</th>\n",
              "    </tr>\n",
              "  </thead>\n",
              "  <tbody>\n",
              "    <tr>\n",
              "      <th>0</th>\n",
              "      <td>0</td>\n",
              "      <td>67</td>\n",
              "      <td>2</td>\n",
              "      <td>1169</td>\n",
              "      <td>6</td>\n",
              "      <td>1</td>\n",
              "      <td>1</td>\n",
              "      <td>1</td>\n",
              "      <td>0</td>\n",
              "      <td>0</td>\n",
              "      <td>0</td>\n",
              "      <td>0</td>\n",
              "      <td>0</td>\n",
              "      <td>1</td>\n",
              "      <td>0</td>\n",
              "      <td>0</td>\n",
              "      <td>0</td>\n",
              "      <td>0</td>\n",
              "      <td>0</td>\n",
              "      <td>0</td>\n",
              "      <td>1</td>\n",
              "      <td>0</td>\n",
              "      <td>0</td>\n",
              "    </tr>\n",
              "    <tr>\n",
              "      <th>1</th>\n",
              "      <td>1</td>\n",
              "      <td>22</td>\n",
              "      <td>2</td>\n",
              "      <td>5951</td>\n",
              "      <td>48</td>\n",
              "      <td>0</td>\n",
              "      <td>0</td>\n",
              "      <td>1</td>\n",
              "      <td>0</td>\n",
              "      <td>1</td>\n",
              "      <td>0</td>\n",
              "      <td>0</td>\n",
              "      <td>0</td>\n",
              "      <td>0</td>\n",
              "      <td>1</td>\n",
              "      <td>0</td>\n",
              "      <td>0</td>\n",
              "      <td>0</td>\n",
              "      <td>0</td>\n",
              "      <td>0</td>\n",
              "      <td>1</td>\n",
              "      <td>0</td>\n",
              "      <td>0</td>\n",
              "    </tr>\n",
              "    <tr>\n",
              "      <th>2</th>\n",
              "      <td>2</td>\n",
              "      <td>49</td>\n",
              "      <td>1</td>\n",
              "      <td>2096</td>\n",
              "      <td>12</td>\n",
              "      <td>1</td>\n",
              "      <td>1</td>\n",
              "      <td>1</td>\n",
              "      <td>0</td>\n",
              "      <td>1</td>\n",
              "      <td>0</td>\n",
              "      <td>0</td>\n",
              "      <td>0</td>\n",
              "      <td>0</td>\n",
              "      <td>0</td>\n",
              "      <td>0</td>\n",
              "      <td>0</td>\n",
              "      <td>0</td>\n",
              "      <td>1</td>\n",
              "      <td>0</td>\n",
              "      <td>0</td>\n",
              "      <td>0</td>\n",
              "      <td>0</td>\n",
              "    </tr>\n",
              "  </tbody>\n",
              "</table>\n",
              "</div>"
            ],
            "text/plain": [
              "   Unnamed: 0  Age  ...  Purpose_repairs  Purpose_vacation/others\n",
              "0           0   67  ...                0                        0\n",
              "1           1   22  ...                0                        0\n",
              "2           2   49  ...                0                        0\n",
              "\n",
              "[3 rows x 23 columns]"
            ]
          },
          "metadata": {
            "tags": []
          },
          "execution_count": 10
        }
      ]
    },
    {
      "cell_type": "code",
      "metadata": {
        "id": "9ZbRceUVPGv-",
        "colab_type": "code",
        "colab": {
          "base_uri": "https://localhost:8080/",
          "height": 107
        },
        "outputId": "3009ad10-d538-47a4-a723-8d56d900e788"
      },
      "source": [
        "from sklearn.model_selection import cross_val_score, cross_val_predict\n",
        "from sklearn.metrics import accuracy_score, classification_report, confusion_matrix\n",
        "from sklearn.discriminant_analysis import LinearDiscriminantAnalysis\n",
        "from sklearn.naive_bayes import GaussianNB\n",
        "from sklearn.tree import DecisionTreeClassifier\n",
        "from sklearn.neighbors import KNeighborsClassifier\n",
        "from sklearn.model_selection import GridSearchCV\n",
        "from xgboost import XGBClassifier\n",
        "from sklearn.model_selection import train_test_split\n",
        "from sklearn.preprocessing import StandardScaler\n",
        "from imblearn.over_sampling import SMOTE"
      ],
      "execution_count": null,
      "outputs": [
        {
          "output_type": "stream",
          "text": [
            "/usr/local/lib/python3.6/dist-packages/sklearn/externals/six.py:31: FutureWarning: The module is deprecated in version 0.21 and will be removed in version 0.23 since we've dropped support for Python 2.7. Please rely on the official version of six (https://pypi.org/project/six/).\n",
            "  \"(https://pypi.org/project/six/).\", FutureWarning)\n",
            "/usr/local/lib/python3.6/dist-packages/sklearn/utils/deprecation.py:144: FutureWarning: The sklearn.neighbors.base module is  deprecated in version 0.22 and will be removed in version 0.24. The corresponding classes / functions should instead be imported from sklearn.neighbors. Anything that cannot be imported from sklearn.neighbors is now part of the private API.\n",
            "  warnings.warn(message, FutureWarning)\n"
          ],
          "name": "stderr"
        }
      ]
    },
    {
      "cell_type": "code",
      "metadata": {
        "id": "Uk00iduFPtgU",
        "colab_type": "code",
        "colab": {}
      },
      "source": [
        "def print_score(clf, X_train, y_train, X_test, y_test, train=True):\n",
        "    if train:\n",
        "        print(\"Train Result:\\n\")\n",
        "        print(\"accuracy score: {0:.4f}\\n\".format(accuracy_score(y_train, clf.predict(X_train))))\n",
        "        print(\"Classification Report: \\n {}\\n\".format(classification_report(y_train, clf.predict(X_train))))\n",
        "        print(\"Confusion Matrix: \\n {}\\n\".format(confusion_matrix(y_train, clf.predict(X_train))))\n",
        "\n",
        "        res = cross_val_score(clf, X_train, y_train, cv=10, scoring='accuracy')\n",
        "        print(\"Average Accuracy: \\t {0:.4f}\".format(np.mean(res)))\n",
        "        print(\"Accuracy SD: \\t\\t {0:.4f}\".format(np.std(res)))\n",
        "        \n",
        "    elif train==False:\n",
        "        print(\"Test Result:\\n\")        \n",
        "        print(\"accuracy score: {0:.4f}\\n\".format(accuracy_score(y_test, clf.predict(X_test))))\n",
        "        print(\"Classification Report: \\n {}\\n\".format(classification_report(y_test, clf.predict(X_test))))\n",
        "        print(\"Confusion Matrix: \\n {}\\n\".format(confusion_matrix(y_test, clf.predict(X_test))))    \n",
        "        "
      ],
      "execution_count": null,
      "outputs": []
    },
    {
      "cell_type": "code",
      "metadata": {
        "id": "bpCW4A6IPvCP",
        "colab_type": "code",
        "colab": {}
      },
      "source": [
        "X_train, X_test, y_train, y_test = train_test_split(df.drop('Risk',axis=1),df['Risk'],test_size=0.4,random_state=101)"
      ],
      "execution_count": null,
      "outputs": []
    },
    {
      "cell_type": "code",
      "metadata": {
        "id": "HDrRqP-IXBan",
        "colab_type": "code",
        "colab": {}
      },
      "source": [
        "sc = StandardScaler()\n",
        "X_train = sc.fit_transform(X_train)\n",
        "X_test=sc.transform(X_test)"
      ],
      "execution_count": null,
      "outputs": []
    },
    {
      "cell_type": "code",
      "metadata": {
        "id": "OMNJ6B4fXHYW",
        "colab_type": "code",
        "colab": {
          "base_uri": "https://localhost:8080/",
          "height": 72
        },
        "outputId": "3c936a17-7b18-4695-edf5-f27b2f583e9c"
      },
      "source": [
        "#Balancing the data\n",
        "sm = SMOTE(random_state=12, ratio = 1.0)\n",
        "x_train_r, y_train_r = sm.fit_sample(X_train, y_train)"
      ],
      "execution_count": null,
      "outputs": [
        {
          "output_type": "stream",
          "text": [
            "/usr/local/lib/python3.6/dist-packages/sklearn/utils/deprecation.py:87: FutureWarning: Function safe_indexing is deprecated; safe_indexing is deprecated in version 0.22 and will be removed in version 0.24.\n",
            "  warnings.warn(msg, category=FutureWarning)\n"
          ],
          "name": "stderr"
        }
      ]
    },
    {
      "cell_type": "code",
      "metadata": {
        "id": "pjK50KM2XORz",
        "colab_type": "code",
        "colab": {}
      },
      "source": [
        "#Running the Gaussian Naive Bayes model\n",
        "#gnb = GaussianNB()\n",
        "#gnb.fit(x_train_r,y_train_r)"
      ],
      "execution_count": null,
      "outputs": []
    },
    {
      "cell_type": "code",
      "metadata": {
        "id": "tCUBQnyTXZzI",
        "colab_type": "code",
        "colab": {}
      },
      "source": [
        "#print_score(gnb, x_train_r, y_train_r, X_test, y_test, train=False)"
      ],
      "execution_count": null,
      "outputs": []
    },
    {
      "cell_type": "code",
      "metadata": {
        "id": "tMZ-VPaBYY7Z",
        "colab_type": "code",
        "colab": {}
      },
      "source": [
        "##Running the Decision Tree Algorithm\n",
        "#dt_clf = DecisionTreeClassifier(random_state=21)\n",
        "#dt_clf = dt_clf.fit(x_train_r,y_train_r)\n",
        "#print_score(dt_clf, x_train_r, y_train_r, X_test, y_test, train=False)"
      ],
      "execution_count": null,
      "outputs": []
    },
    {
      "cell_type": "code",
      "metadata": {
        "id": "_gINsiNdXdL3",
        "colab_type": "code",
        "colab": {}
      },
      "source": [
        "#finding the best hyperparameter for decision tree algorithm\n",
        "#sample_split_range = list(range(1, 50))\n",
        "#max_depth = list(range(40,100,10))\n",
        "#param_grid = dict(min_samples_split=sample_split_range,max_depth=max_depth)\n",
        "#grid = GridSearchCV(dt_clf, param_grid, cv=10, scoring='accuracy')\n",
        "#grid.fit(x_train_r, y_train_r)"
      ],
      "execution_count": null,
      "outputs": []
    },
    {
      "cell_type": "code",
      "metadata": {
        "id": "2L5DZx6-YSq8",
        "colab_type": "code",
        "colab": {}
      },
      "source": [
        "#print(grid.best_score_)\n",
        "#print(grid.best_params_)\n",
        "#print(grid.best_estimator_)"
      ],
      "execution_count": null,
      "outputs": []
    },
    {
      "cell_type": "code",
      "metadata": {
        "id": "EodHr7kXZbk3",
        "colab_type": "code",
        "colab": {
          "base_uri": "https://localhost:8080/",
          "height": 354
        },
        "outputId": "e8a961b4-6ce4-4530-8a81-27dee0e351ab"
      },
      "source": [
        "dt_clf = DecisionTreeClassifier(ccp_alpha=0.0, class_weight=None, criterion='gini',\n",
        "                       max_depth=40, max_features=None, max_leaf_nodes=None,\n",
        "                       min_impurity_decrease=0.0, min_impurity_split=None,\n",
        "                       min_samples_leaf=10, min_samples_split=19,\n",
        "                       min_weight_fraction_leaf=0.0, presort='deprecated',\n",
        "                       random_state=21, splitter='best')\n",
        "dt_clf = dt_clf.fit(x_train_r,y_train_r)\n",
        "print_score(dt_clf, x_train_r, y_train_r, X_test, y_test, train=False)"
      ],
      "execution_count": null,
      "outputs": [
        {
          "output_type": "stream",
          "text": [
            "Test Result:\n",
            "\n",
            "accuracy score: 0.6667\n",
            "\n",
            "Classification Report: \n",
            "               precision    recall  f1-score   support\n",
            "\n",
            "           0       0.47      0.41      0.44       104\n",
            "           1       0.74      0.78      0.76       226\n",
            "\n",
            "    accuracy                           0.67       330\n",
            "   macro avg       0.61      0.60      0.60       330\n",
            "weighted avg       0.66      0.67      0.66       330\n",
            "\n",
            "\n",
            "Confusion Matrix: \n",
            " [[ 43  61]\n",
            " [ 49 177]]\n",
            "\n"
          ],
          "name": "stdout"
        }
      ]
    },
    {
      "cell_type": "code",
      "metadata": {
        "id": "vZN_gmybZ4if",
        "colab_type": "code",
        "colab": {
          "base_uri": "https://localhost:8080/",
          "height": 354
        },
        "outputId": "5b2e01bb-2afd-41ae-eab4-c4cc9889f887"
      },
      "source": [
        "#Running XGBoost Algorithm\n",
        "xgb = XGBClassifier(learning_rate=0.1, max_depth=5,gamma=2,min_child_weight=1,nthread=3,n_estimators=200)\n",
        "xgb.fit(x_train_r,y_train_r)\n",
        "print_score(xgb, x_train_r, y_train_r, X_test, y_test, train=False)"
      ],
      "execution_count": null,
      "outputs": [
        {
          "output_type": "stream",
          "text": [
            "Test Result:\n",
            "\n",
            "accuracy score: 0.7121\n",
            "\n",
            "Classification Report: \n",
            "               precision    recall  f1-score   support\n",
            "\n",
            "           0       0.55      0.46      0.50       104\n",
            "           1       0.77      0.83      0.80       226\n",
            "\n",
            "    accuracy                           0.71       330\n",
            "   macro avg       0.66      0.64      0.65       330\n",
            "weighted avg       0.70      0.71      0.70       330\n",
            "\n",
            "\n",
            "Confusion Matrix: \n",
            " [[ 48  56]\n",
            " [ 39 187]]\n",
            "\n"
          ],
          "name": "stdout"
        }
      ]
    },
    {
      "cell_type": "code",
      "metadata": {
        "id": "0igUHyMNco-A",
        "colab_type": "code",
        "colab": {
          "base_uri": "https://localhost:8080/",
          "height": 301
        },
        "outputId": "efcd3323-f11b-4fb3-8e12-e4286cae096b"
      },
      "source": [
        ""
      ],
      "execution_count": null,
      "outputs": [
        {
          "output_type": "execute_result",
          "data": {
            "text/plain": [
              "GridSearchCV(cv=10, error_score=nan,\n",
              "             estimator=XGBClassifier(base_score=0.5, booster='gbtree',\n",
              "                                     colsample_bylevel=1, colsample_bynode=1,\n",
              "                                     colsample_bytree=1, gamma=2,\n",
              "                                     learning_rate=0.1, max_delta_step=0,\n",
              "                                     max_depth=5, min_child_weight=1,\n",
              "                                     missing=None, n_estimators=100, n_jobs=1,\n",
              "                                     nthread=2, objective='binary:logistic',\n",
              "                                     random_state=0, reg_alpha=0, reg_lambda=1,\n",
              "                                     scale_pos_weight=1, seed=None, silent=None,\n",
              "                                     subsample=1, verbosity=1),\n",
              "             iid='deprecated', n_jobs=None,\n",
              "             param_grid={'max_depth': [5, 10, 15],\n",
              "                         'n_estimators': [40, 50, 60, 70, 80, 90]},\n",
              "             pre_dispatch='2*n_jobs', refit=True, return_train_score=False,\n",
              "             scoring='accuracy', verbose=0)"
            ]
          },
          "metadata": {
            "tags": []
          },
          "execution_count": 23
        }
      ]
    },
    {
      "cell_type": "code",
      "metadata": {
        "id": "AvDto7BZetAA",
        "colab_type": "code",
        "colab": {
          "base_uri": "https://localhost:8080/",
          "height": 1000
        },
        "outputId": "3b703885-7b5d-459f-8006-35be39db1c11"
      },
      "source": [
        ""
      ],
      "execution_count": null,
      "outputs": [
        {
          "output_type": "stream",
          "text": [
            "0.8189603283173735\n",
            "{'mean_fit_time': array([0.04199417, 0.05387514, 0.05886395, 0.06891041, 0.07826343,\n",
            "       0.08790283, 0.08159027, 0.09360023, 0.11472991, 0.12748103,\n",
            "       0.14420331, 0.16719038, 0.08436632, 0.10518494, 0.12547629,\n",
            "       0.15370865, 0.16740589, 0.189101  ]), 'std_fit_time': array([0.00187057, 0.00697721, 0.00086081, 0.00480217, 0.00360795,\n",
            "       0.00480642, 0.01316416, 0.00192608, 0.00574803, 0.00379272,\n",
            "       0.00547301, 0.00876492, 0.00508366, 0.00432844, 0.0056146 ,\n",
            "       0.01026786, 0.00760557, 0.0056067 ]), 'mean_score_time': array([0.00089097, 0.00101585, 0.00089328, 0.00093811, 0.0010546 ,\n",
            "       0.00100796, 0.00112054, 0.0012871 , 0.00117276, 0.00114281,\n",
            "       0.00118511, 0.00120018, 0.00107956, 0.00125444, 0.00159624,\n",
            "       0.00130851, 0.0013037 , 0.00128825]), 'std_score_time': array([9.76783199e-05, 1.46162443e-04, 6.80396709e-05, 1.20104009e-04,\n",
            "       1.37027687e-04, 1.35723723e-04, 1.41485124e-04, 3.04211125e-04,\n",
            "       1.39073563e-04, 1.84426104e-04, 1.21984277e-04, 1.37208658e-04,\n",
            "       8.82492772e-05, 1.41416519e-04, 3.22409971e-04, 1.40936603e-04,\n",
            "       1.25347939e-04, 1.07546234e-04]), 'param_max_depth': masked_array(data=[5, 5, 5, 5, 5, 5, 10, 10, 10, 10, 10, 10, 15, 15, 15,\n",
            "                   15, 15, 15],\n",
            "             mask=[False, False, False, False, False, False, False, False,\n",
            "                   False, False, False, False, False, False, False, False,\n",
            "                   False, False],\n",
            "       fill_value='?',\n",
            "            dtype=object), 'param_n_estimators': masked_array(data=[40, 50, 60, 70, 80, 90, 40, 50, 60, 70, 80, 90, 40, 50,\n",
            "                   60, 70, 80, 90],\n",
            "             mask=[False, False, False, False, False, False, False, False,\n",
            "                   False, False, False, False, False, False, False, False,\n",
            "                   False, False],\n",
            "       fill_value='?',\n",
            "            dtype=object), 'params': [{'max_depth': 5, 'n_estimators': 40}, {'max_depth': 5, 'n_estimators': 50}, {'max_depth': 5, 'n_estimators': 60}, {'max_depth': 5, 'n_estimators': 70}, {'max_depth': 5, 'n_estimators': 80}, {'max_depth': 5, 'n_estimators': 90}, {'max_depth': 10, 'n_estimators': 40}, {'max_depth': 10, 'n_estimators': 50}, {'max_depth': 10, 'n_estimators': 60}, {'max_depth': 10, 'n_estimators': 70}, {'max_depth': 10, 'n_estimators': 80}, {'max_depth': 10, 'n_estimators': 90}, {'max_depth': 15, 'n_estimators': 40}, {'max_depth': 15, 'n_estimators': 50}, {'max_depth': 15, 'n_estimators': 60}, {'max_depth': 15, 'n_estimators': 70}, {'max_depth': 15, 'n_estimators': 80}, {'max_depth': 15, 'n_estimators': 90}], 'split0_test_score': array([0.63953488, 0.62790698, 0.62790698, 0.62790698, 0.62790698,\n",
            "       0.62790698, 0.63953488, 0.63953488, 0.63953488, 0.63953488,\n",
            "       0.63953488, 0.63953488, 0.65116279, 0.63953488, 0.63953488,\n",
            "       0.63953488, 0.63953488, 0.63953488]), 'split1_test_score': array([0.76744186, 0.75581395, 0.75581395, 0.75581395, 0.75581395,\n",
            "       0.75581395, 0.74418605, 0.75581395, 0.75581395, 0.75581395,\n",
            "       0.75581395, 0.75581395, 0.74418605, 0.72093023, 0.74418605,\n",
            "       0.74418605, 0.74418605, 0.74418605]), 'split2_test_score': array([0.79069767, 0.79069767, 0.79069767, 0.79069767, 0.79069767,\n",
            "       0.79069767, 0.8255814 , 0.8255814 , 0.8255814 , 0.8255814 ,\n",
            "       0.8255814 , 0.8255814 , 0.77906977, 0.77906977, 0.77906977,\n",
            "       0.77906977, 0.77906977, 0.77906977]), 'split3_test_score': array([0.61627907, 0.62790698, 0.62790698, 0.62790698, 0.62790698,\n",
            "       0.62790698, 0.6627907 , 0.6627907 , 0.6627907 , 0.6627907 ,\n",
            "       0.6627907 , 0.6627907 , 0.6627907 , 0.6627907 , 0.6627907 ,\n",
            "       0.6627907 , 0.6627907 , 0.6627907 ]), 'split4_test_score': array([0.91764706, 0.92941176, 0.94117647, 0.91764706, 0.91764706,\n",
            "       0.91764706, 0.92941176, 0.92941176, 0.92941176, 0.92941176,\n",
            "       0.92941176, 0.92941176, 0.92941176, 0.94117647, 0.95294118,\n",
            "       0.95294118, 0.95294118, 0.95294118]), 'split5_test_score': array([0.83529412, 0.84705882, 0.83529412, 0.83529412, 0.83529412,\n",
            "       0.83529412, 0.81176471, 0.82352941, 0.82352941, 0.82352941,\n",
            "       0.82352941, 0.82352941, 0.83529412, 0.83529412, 0.82352941,\n",
            "       0.82352941, 0.82352941, 0.82352941]), 'split6_test_score': array([0.87058824, 0.88235294, 0.88235294, 0.88235294, 0.88235294,\n",
            "       0.88235294, 0.85882353, 0.85882353, 0.85882353, 0.85882353,\n",
            "       0.85882353, 0.85882353, 0.85882353, 0.84705882, 0.83529412,\n",
            "       0.83529412, 0.83529412, 0.83529412]), 'split7_test_score': array([0.88235294, 0.89411765, 0.89411765, 0.89411765, 0.89411765,\n",
            "       0.89411765, 0.90588235, 0.90588235, 0.90588235, 0.90588235,\n",
            "       0.90588235, 0.90588235, 0.90588235, 0.90588235, 0.90588235,\n",
            "       0.90588235, 0.90588235, 0.90588235]), 'split8_test_score': array([0.90588235, 0.91764706, 0.91764706, 0.91764706, 0.91764706,\n",
            "       0.91764706, 0.89411765, 0.89411765, 0.89411765, 0.89411765,\n",
            "       0.89411765, 0.89411765, 0.88235294, 0.88235294, 0.88235294,\n",
            "       0.88235294, 0.88235294, 0.88235294]), 'split9_test_score': array([0.85882353, 0.90588235, 0.90588235, 0.90588235, 0.90588235,\n",
            "       0.90588235, 0.89411765, 0.89411765, 0.89411765, 0.89411765,\n",
            "       0.89411765, 0.89411765, 0.90588235, 0.91764706, 0.91764706,\n",
            "       0.91764706, 0.91764706, 0.91764706]), 'mean_test_score': array([0.80845417, 0.81787962, 0.81787962, 0.81552668, 0.81552668,\n",
            "       0.81552668, 0.81662107, 0.81896033, 0.81896033, 0.81896033,\n",
            "       0.81896033, 0.81896033, 0.81548564, 0.81317373, 0.81432285,\n",
            "       0.81432285, 0.81432285, 0.81432285]), 'std_test_score': array([0.10072575, 0.10850259, 0.10951834, 0.10706948, 0.10706948,\n",
            "       0.10706948, 0.09739395, 0.09657945, 0.09657945, 0.09657945,\n",
            "       0.09657945, 0.09657945, 0.09632838, 0.10234989, 0.10153891,\n",
            "       0.10153891, 0.10153891, 0.10153891]), 'rank_test_score': array([18,  6,  6,  9,  9,  9,  8,  1,  1,  1,  1,  1, 12, 17, 13, 13, 13,\n",
            "       13], dtype=int32)}\n",
            "{'max_depth': 10, 'n_estimators': 50}\n",
            "XGBClassifier(base_score=0.5, booster='gbtree', colsample_bylevel=1,\n",
            "              colsample_bynode=1, colsample_bytree=1, gamma=2,\n",
            "              learning_rate=0.1, max_delta_step=0, max_depth=10,\n",
            "              min_child_weight=1, missing=None, n_estimators=50, n_jobs=1,\n",
            "              nthread=2, objective='binary:logistic', random_state=0,\n",
            "              reg_alpha=0, reg_lambda=1, scale_pos_weight=1, seed=None,\n",
            "              silent=None, subsample=1, verbosity=1)\n"
          ],
          "name": "stdout"
        }
      ]
    },
    {
      "cell_type": "code",
      "metadata": {
        "id": "YDc1tkYQe1ql",
        "colab_type": "code",
        "colab": {
          "base_uri": "https://localhost:8080/",
          "height": 354
        },
        "outputId": "f85395a5-d22c-409e-d8c0-441e7303380b"
      },
      "source": [
        "#Running XGBoost Algorithm\n",
        "xgb = XGBClassifier(base_score=0.5, booster='gbtree', colsample_bylevel=1,\n",
        "              colsample_bynode=1, colsample_bytree=1, gamma=2,\n",
        "              learning_rate=0.1, max_delta_step=0, max_depth=10,\n",
        "              min_child_weight=1, missing=None, n_estimators=50, n_jobs=1,\n",
        "              nthread=2, objective='binary:logistic', random_state=0,\n",
        "              reg_alpha=0, reg_lambda=1, scale_pos_weight=1, seed=None,\n",
        "              silent=None, subsample=1, verbosity=1)\n",
        "xgb.fit(x_train_r,y_train_r)\n",
        "print_score(xgb, x_train_r, y_train_r, X_test, y_test, train=False)"
      ],
      "execution_count": null,
      "outputs": [
        {
          "output_type": "stream",
          "text": [
            "Test Result:\n",
            "\n",
            "accuracy score: 0.7121\n",
            "\n",
            "Classification Report: \n",
            "               precision    recall  f1-score   support\n",
            "\n",
            "           0       0.56      0.42      0.48       104\n",
            "           1       0.76      0.85      0.80       226\n",
            "\n",
            "    accuracy                           0.71       330\n",
            "   macro avg       0.66      0.63      0.64       330\n",
            "weighted avg       0.70      0.71      0.70       330\n",
            "\n",
            "\n",
            "Confusion Matrix: \n",
            " [[ 44  60]\n",
            " [ 35 191]]\n",
            "\n"
          ],
          "name": "stdout"
        }
      ]
    },
    {
      "cell_type": "code",
      "metadata": {
        "id": "Ry321ELXfE5m",
        "colab_type": "code",
        "colab": {
          "base_uri": "https://localhost:8080/",
          "height": 70
        },
        "outputId": "6ed9ccdf-9178-40b0-d192-dfd5a716dfa2"
      },
      "source": [
        "knn = KNeighborsClassifier(n_neighbors=5) #Running the KNN algorithm\n",
        "knn.fit(x_train_r,y_train_r)"
      ],
      "execution_count": null,
      "outputs": [
        {
          "output_type": "execute_result",
          "data": {
            "text/plain": [
              "KNeighborsClassifier(algorithm='auto', leaf_size=30, metric='minkowski',\n",
              "                     metric_params=None, n_jobs=None, n_neighbors=5, p=2,\n",
              "                     weights='uniform')"
            ]
          },
          "metadata": {
            "tags": []
          },
          "execution_count": 65
        }
      ]
    },
    {
      "cell_type": "code",
      "metadata": {
        "id": "gyOt_S_NNEOk",
        "colab_type": "code",
        "colab": {
          "base_uri": "https://localhost:8080/",
          "height": 354
        },
        "outputId": "ccdc6a85-3122-48c4-c159-34b60f83952e"
      },
      "source": [
        "print_score(knn, x_train_r, y_train_r, X_test, y_test, train=False)"
      ],
      "execution_count": null,
      "outputs": [
        {
          "output_type": "stream",
          "text": [
            "Test Result:\n",
            "\n",
            "accuracy score: 0.6650\n",
            "\n",
            "Classification Report: \n",
            "               precision    recall  f1-score   support\n",
            "\n",
            "           0       0.48      0.69      0.56       127\n",
            "           1       0.82      0.66      0.73       273\n",
            "\n",
            "    accuracy                           0.67       400\n",
            "   macro avg       0.65      0.67      0.65       400\n",
            "weighted avg       0.71      0.67      0.68       400\n",
            "\n",
            "\n",
            "Confusion Matrix: \n",
            " [[ 87  40]\n",
            " [ 94 179]]\n",
            "\n"
          ],
          "name": "stdout"
        }
      ]
    },
    {
      "cell_type": "code",
      "metadata": {
        "id": "SKLBVJOxNG4x",
        "colab_type": "code",
        "colab": {}
      },
      "source": [
        ""
      ],
      "execution_count": null,
      "outputs": []
    }
  ]
}